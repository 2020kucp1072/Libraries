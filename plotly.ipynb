{
 "cells": [
  {
   "cell_type": "code",
   "execution_count": null,
   "metadata": {},
   "outputs": [],
   "source": [
    "'''\n",
    "    @Author: VEMULA DILEEP\n",
    "    @Date: 25-10-24\n",
    "    @Last Modified by: VEMULA DILEEP\n",
    "    @Last Modified time: 17:55\n",
    "    @Title : Python programs for ploty scatter\n",
    "'''\n"
   ]
  },
  {
   "cell_type": "code",
   "execution_count": null,
   "metadata": {},
   "outputs": [],
   "source": [
    "import plotly.express as px\n",
    "import numpy as np\n",
    "import pandas as pd\n",
    "\n",
    "def scatter_plot_random_1000():\n",
    "    \"\"\"\n",
    "    Description:\n",
    "        Generates a scatter plot with 1000 random x and y coordinates using plotly.\n",
    "    Parameters:\n",
    "        None\n",
    "    Return:\n",
    "        None\n",
    "    \"\"\"\n",
    "    x = np.random.rand(1000)\n",
    "    y = np.random.rand(1000)\n",
    "    df = pd.DataFrame({'X': x, 'Y': y})\n",
    "    fig = px.scatter(df, x='X', y='Y', title=\"Scatter Plot of 1000 Random Points\")\n",
    "    fig.show()\n",
    "\n",
    "scatter_plot_random_1000()\n"
   ]
  },
  {
   "cell_type": "code",
   "execution_count": null,
   "metadata": {},
   "outputs": [],
   "source": [
    "def main():\n",
    "    scatter_plot_random_1000()\n",
    "\n",
    "if __name__==\"__main__\":\n",
    "    main()"
   ]
  }
 ],
 "metadata": {
  "kernelspec": {
   "display_name": "Python 3",
   "language": "python",
   "name": "python3"
  },
  "language_info": {
   "codemirror_mode": {
    "name": "ipython",
    "version": 3
   },
   "file_extension": ".py",
   "mimetype": "text/x-python",
   "name": "python",
   "nbconvert_exporter": "python",
   "pygments_lexer": "ipython3",
   "version": "3.11.3"
  }
 },
 "nbformat": 4,
 "nbformat_minor": 2
}
