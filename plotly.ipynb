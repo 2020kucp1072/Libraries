{
 "cells": [
  {
   "cell_type": "code",
   "execution_count": null,
   "metadata": {},
   "outputs": [],
   "source": [
    "'''\n",
    "    @Author: VEMULA DILEEP\n",
    "    @Date: 25-10-24\n",
    "    @Last Modified by: VEMULA DILEEP\n",
    "    @Last Modified time: 17:55\n",
    "    @Title : Python programs for ploty scatter\n",
    "'''\n"
   ]
  },
  {
   "cell_type": "code",
   "execution_count": null,
   "metadata": {},
   "outputs": [],
   "source": [
    "import plotly.express as px\n",
    "import numpy as np\n",
    "import pandas as pd\n",
    "\n",
    "def scatter_plot_random_1000():\n",
    "    \"\"\"\n",
    "    Description:\n",
    "        Generates a scatter plot with 1000 random x and y coordinates using plotly.\n",
    "    Parameters:\n",
    "        None\n",
    "    Return:\n",
    "        None\n",
    "    \"\"\"\n",
    "    x = np.random.rand(1000)\n",
    "    y = np.random.rand(1000)\n",
    "    df = pd.DataFrame({'X': x, 'Y': y})\n",
    "    fig = px.scatter(df, x='X', y='Y', title=\"Scatter Plot of 1000 Random Points\")\n",
    "    fig.show()\n",
    "\n",
    "scatter_plot_random_1000()\n"
   ]
  },
  {
   "cell_type": "code",
   "execution_count": null,
   "metadata": {},
   "outputs": [],
   "source": [
    "import plotly.graph_objects as go\n",
    "import numpy as np\n",
    "\n",
    "def line_and_scatter_plot_random_100():\n",
    "    \"\"\"\n",
    "    Description:\n",
    "        Generates both line and scatter plots for 100 random x and y coordinates using plotly.\n",
    "    Parameters:\n",
    "        None\n",
    "    Return:\n",
    "        None\n",
    "    \"\"\"\n",
    "    x = np.linspace(0, 10, 100)\n",
    "    y = np.random.rand(100)\n",
    "    fig = go.Figure()\n",
    "    fig.add_trace(go.Scatter(x=x, y=y, mode='lines', name='Line Plot', line=dict(color='blue')))\n",
    "    fig.add_trace(go.Scatter(x=x, y=y, mode='markers', name='Scatter Plot', marker=dict(color='red', size=8)))\n",
    "    fig.update_layout(title=\"Line and Scatter Plot of 100 Random Points\", xaxis_title=\"X Coordinate\", yaxis_title=\"Y Coordinate\")\n",
    "    fig.show()\n",
    "\n",
    "line_and_scatter_plot_random_100()\n"
   ]
  },
  {
   "cell_type": "code",
   "execution_count": null,
   "metadata": {},
   "outputs": [],
   "source": [
    "import plotly.express as px\n",
    "import numpy as np\n",
    "import pandas as pd\n",
    "\n",
    "def styled_scatter_plot_random_500():\n",
    "    \"\"\"\n",
    "    Description:\n",
    "        Generates a styled scatter plot with 500 random x and y coordinates using plotly.\n",
    "    Parameters:\n",
    "        None\n",
    "    Return:\n",
    "        None\n",
    "    \"\"\"\n",
    "    x = np.random.rand(500)\n",
    "    y = np.random.rand(500)\n",
    "    df1 = pd.DataFrame({'Xx': x, 'Yy': y})\n",
    "    fig = px.scatter(df1, x='Xx', y='Yy', color='Yy', color_continuous_scale='Viridis',\n",
    "                     title=\"Styled Scatter Plot of 500 Random Points\")\n",
    "    \n",
    "    fig.show()\n",
    "\n",
    "styled_scatter_plot_random_500()\n"
   ]
  },
  {
   "cell_type": "code",
   "execution_count": null,
   "metadata": {},
   "outputs": [],
   "source": [
    "import plotly.express as px\n",
    "import pandas as pd\n",
    "\n",
    "def scatter_plot_with_hover_labels():\n",
    "    \"\"\"\n",
    "    Description:\n",
    "        Loads a dataset and creates an interactive scatter plot with data labels on hover using plotly.\n",
    "    Parameters:\n",
    "        None\n",
    "    Return:\n",
    "        None\n",
    "    \"\"\"\n",
    "    url = \"https://raw.githubusercontent.com/plotly/datasets/master/2014_usa_states.csv\"\n",
    "    data = pd.read_csv(url)\n",
    "    fig = px.scatter(data, x=\"Population\", y=\"Rank\", text=\"State\", \n",
    "                     title=\"Scatter Plot of States with Population vs Rank\",\n",
    "                     labels={\"Population\": \"Population\", \"Rank\": \"Rank\"})\n",
    "    fig.update_traces(marker=dict(size=10, color=\"blue\", opacity=0.6), textposition=\"top center\")\n",
    "    fig.update_layout(showlegend=False)\n",
    "    fig.show()\n",
    "\n",
    "scatter_plot_with_hover_labels()\n"
   ]
  },
  {
   "cell_type": "code",
   "execution_count": null,
   "metadata": {},
   "outputs": [],
   "source": [
    "def main():\n",
    "    scatter_plot_random_1000()\n",
    "    line_and_scatter_plot_random_100()\n",
    "    styled_scatter_plot_random_500()\n",
    "    scatter_plot_with_hover_labels()\n",
    "if __name__==\"__main__\":\n",
    "    main()"
   ]
  }
 ],
 "metadata": {
  "kernelspec": {
   "display_name": "Python 3",
   "language": "python",
   "name": "python3"
  },
  "language_info": {
   "codemirror_mode": {
    "name": "ipython",
    "version": 3
   },
   "file_extension": ".py",
   "mimetype": "text/x-python",
   "name": "python",
   "nbconvert_exporter": "python",
   "pygments_lexer": "ipython3",
   "version": "3.11.3"
  }
 },
 "nbformat": 4,
 "nbformat_minor": 2
}
